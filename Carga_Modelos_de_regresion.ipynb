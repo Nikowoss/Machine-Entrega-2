{
  "nbformat": 4,
  "nbformat_minor": 0,
  "metadata": {
    "colab": {
      "provenance": []
    },
    "kernelspec": {
      "name": "python3",
      "display_name": "Python 3"
    },
    "language_info": {
      "name": "python"
    }
  },
  "cells": [
    {
      "cell_type": "markdown",
      "source": [
        "# Carga Modelos de regresión\n",
        "\n",
        "**Autor/es:**\n",
        "+ Nicolas Navarro\n",
        "+ Gabriela Sandoval\n",
        "\n",
        "**Correos Electrónicos:**\n",
        "+ ni.navarroa@duocuc.cl\n",
        "+ gab.sandoval@duocuc.cl\n",
        "\n",
        "**Fecha de Creación:** 16 Octubre de 2024  \n",
        "**Versión:** 1.0\n",
        "\n",
        "---\n",
        "\n",
        "## Descripción\n",
        "\n",
        "Este notebook contiene el uso de modelos de regresión cargados para la evaluación de modelos de regresión de la asignatura de Fundamentos de Machine Learning de la carrera de Ingeniería en informática de DuocUC - Sede Concepción\n"
      ],
      "metadata": {
        "id": "ges6kPUBUVcq"
      }
    },
    {
      "cell_type": "markdown",
      "source": [
        "# Uso de modelos\n",
        "\n",
        "Acá debe cargar desde el archivo pickle cada variante y cargar el JSON con las entradas, generando así el JSON con las predicciones"
      ],
      "metadata": {
        "id": "8g-efcJsX3Ld"
      }
    },
    {
      "cell_type": "code",
      "source": [
        "import json\n",
        "import pickle\n",
        "import pandas as pd\n",
        "!pip install scikit-learn==1.1.2"
      ],
      "metadata": {
        "colab": {
          "base_uri": "https://localhost:8080/"
        },
        "id": "sA0ginIm1gSZ",
        "outputId": "d39992f9-def4-499e-961b-b5dc9544d05b"
      },
      "execution_count": 1,
      "outputs": [
        {
          "output_type": "stream",
          "name": "stdout",
          "text": [
            "Requirement already satisfied: scikit-learn==1.1.2 in /usr/local/lib/python3.10/dist-packages (1.1.2)\n",
            "Requirement already satisfied: numpy>=1.17.3 in /usr/local/lib/python3.10/dist-packages (from scikit-learn==1.1.2) (1.26.4)\n",
            "Requirement already satisfied: scipy>=1.3.2 in /usr/local/lib/python3.10/dist-packages (from scikit-learn==1.1.2) (1.13.1)\n",
            "Requirement already satisfied: joblib>=1.0.0 in /usr/local/lib/python3.10/dist-packages (from scikit-learn==1.1.2) (1.4.2)\n",
            "Requirement already satisfied: threadpoolctl>=2.0.0 in /usr/local/lib/python3.10/dist-packages (from scikit-learn==1.1.2) (3.5.0)\n"
          ]
        }
      ]
    },
    {
      "cell_type": "markdown",
      "source": [
        "## Variante 1 - Uso sólo de variables cuantitativas"
      ],
      "metadata": {
        "id": "TiKMvsliX7f_"
      }
    },
    {
      "cell_type": "code",
      "source": [
        "with open('modelo_aleternativa_1.pkl', 'rb') as f:\n",
        "    best_model_1 = pickle.load(f)"
      ],
      "metadata": {
        "id": "-7VzL4lAX_GW"
      },
      "execution_count": 2,
      "outputs": []
    },
    {
      "cell_type": "code",
      "source": [
        "url = 'datos_1.JSON'\n",
        "data = []\n",
        "with open(url, 'r') as f:\n",
        "    data = json.load(f)\n",
        "\n",
        "predicciones = []\n",
        "\n",
        "for entry in data:\n",
        "    X_new_1 = pd.DataFrame([entry], columns=['PrimaryAssaultRifle','RLethalGrenadesThrown'])\n",
        "\n",
        "    # Realizar la predicción con el modelo de la alternativa 1\n",
        "    pred_1 = best_model_1.predict(X_new_1)[0]\n",
        "\n",
        "    predicciones.append({\n",
        "        'Las X': entry,\n",
        "        'prediction': pred_1\n",
        "    })\n",
        "\n",
        "# Guardar el resultado en un archivo JSON\n",
        "json_con_predicciones = 'prediciones_alternativa_1.json'\n",
        "with open(json_con_predicciones, 'w') as f:\n",
        "    json.dump(predicciones, f, indent=4)\n",
        "\n",
        "print(f\"Predicciones guardadas exitosamente en {json_con_predicciones}\")"
      ],
      "metadata": {
        "colab": {
          "base_uri": "https://localhost:8080/"
        },
        "id": "HE2zssCC1lD4",
        "outputId": "fda96a38-9eb6-4ced-88f5-9c2ce542d306"
      },
      "execution_count": 3,
      "outputs": [
        {
          "output_type": "stream",
          "name": "stdout",
          "text": [
            "Predicciones guardadas exitosamente en prediciones_alternativa_1.json\n"
          ]
        }
      ]
    },
    {
      "cell_type": "markdown",
      "source": [
        "## Variante 2 - Uso de variables cuantitativas y categórica"
      ],
      "metadata": {
        "id": "GVy064hVX9tM"
      }
    },
    {
      "cell_type": "code",
      "source": [
        "with open('modelo_aleternativa_2.pkl', 'rb') as f:\n",
        "    best_model_2 = pickle.load(f)"
      ],
      "metadata": {
        "id": "aCY3cMyXX_8e"
      },
      "execution_count": 4,
      "outputs": []
    },
    {
      "cell_type": "code",
      "source": [
        "url = 'datos_2.JSON'\n",
        "data = []\n",
        "with open(url, 'r') as f:\n",
        "    data = json.load(f)\n",
        "\n",
        "predicciones = []\n",
        "\n",
        "for entry in data:\n",
        "    X_new_2 = pd.DataFrame([entry], columns=['PrimaryAssaultRifle','RLethalGrenadesThrown', 'Survived'])\n",
        "\n",
        "    pred_2 = best_model_2.predict(X_new_2)[0]\n",
        "\n",
        "    predicciones.append({\n",
        "        'inputs': entry,\n",
        "        'prediction': pred_2\n",
        "    })\n",
        "\n",
        "json_con_predicciones2 = 'prediciones_alternativa_2.json'\n",
        "with open(json_con_predicciones2, 'w') as f:\n",
        "    json.dump(predicciones, f, indent=4)\n",
        "\n",
        "print(f\"Predicciones guardadas exitosamente en {json_con_predicciones2}\")"
      ],
      "metadata": {
        "colab": {
          "base_uri": "https://localhost:8080/"
        },
        "id": "HGnM-ono2xhE",
        "outputId": "2dabc6cd-fdaf-4501-bf83-d41621afbba1"
      },
      "execution_count": 5,
      "outputs": [
        {
          "output_type": "stream",
          "name": "stdout",
          "text": [
            "Predicciones guardadas exitosamente en prediciones_alternativa_2.json\n"
          ]
        }
      ]
    }
  ]
}